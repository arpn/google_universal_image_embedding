{
 "cells": [
  {
   "cell_type": "code",
   "execution_count": 1,
   "id": "4361dbc8",
   "metadata": {
    "execution": {
     "iopub.execute_input": "2022-10-05T21:36:38.675685Z",
     "iopub.status.busy": "2022-10-05T21:36:38.674869Z",
     "iopub.status.idle": "2022-10-05T21:36:53.587378Z",
     "shell.execute_reply": "2022-10-05T21:36:53.585730Z"
    },
    "papermill": {
     "duration": 14.92692,
     "end_time": "2022-10-05T21:36:53.591108",
     "exception": false,
     "start_time": "2022-10-05T21:36:38.664188",
     "status": "completed"
    },
    "tags": []
   },
   "outputs": [
    {
     "name": "stdout",
     "output_type": "stream",
     "text": [
      "Collecting timm\r\n",
      "  Downloading timm-0.6.11-py3-none-any.whl (548 kB)\r\n",
      "\u001b[2K     \u001b[90m━━━━━━━━━━━━━━━━━━━━━━━━━━━━━━━━━━━━━━━\u001b[0m \u001b[32m548.7/548.7 kB\u001b[0m \u001b[31m2.5 MB/s\u001b[0m eta \u001b[36m0:00:00\u001b[0m\r\n",
      "\u001b[?25hRequirement already satisfied: torchvision in /opt/conda/lib/python3.7/site-packages (from timm) (0.12.0+cpu)\r\n",
      "Requirement already satisfied: torch>=1.7 in /opt/conda/lib/python3.7/site-packages (from timm) (1.11.0+cpu)\r\n",
      "Requirement already satisfied: pyyaml in /opt/conda/lib/python3.7/site-packages (from timm) (6.0)\r\n",
      "Requirement already satisfied: huggingface-hub in /opt/conda/lib/python3.7/site-packages (from timm) (0.8.1)\r\n",
      "Requirement already satisfied: typing-extensions in /opt/conda/lib/python3.7/site-packages (from torch>=1.7->timm) (4.3.0)\r\n",
      "Requirement already satisfied: filelock in /opt/conda/lib/python3.7/site-packages (from huggingface-hub->timm) (3.7.1)\r\n",
      "Requirement already satisfied: tqdm in /opt/conda/lib/python3.7/site-packages (from huggingface-hub->timm) (4.64.0)\r\n",
      "Requirement already satisfied: requests in /opt/conda/lib/python3.7/site-packages (from huggingface-hub->timm) (2.28.1)\r\n",
      "Requirement already satisfied: packaging>=20.9 in /opt/conda/lib/python3.7/site-packages (from huggingface-hub->timm) (21.3)\r\n",
      "Requirement already satisfied: importlib-metadata in /opt/conda/lib/python3.7/site-packages (from huggingface-hub->timm) (4.12.0)\r\n",
      "Requirement already satisfied: numpy in /opt/conda/lib/python3.7/site-packages (from torchvision->timm) (1.21.6)\r\n",
      "Requirement already satisfied: pillow!=8.3.*,>=5.3.0 in /opt/conda/lib/python3.7/site-packages (from torchvision->timm) (9.1.1)\r\n",
      "Requirement already satisfied: pyparsing!=3.0.5,>=2.0.2 in /opt/conda/lib/python3.7/site-packages (from packaging>=20.9->huggingface-hub->timm) (3.0.9)\r\n",
      "Requirement already satisfied: zipp>=0.5 in /opt/conda/lib/python3.7/site-packages (from importlib-metadata->huggingface-hub->timm) (3.8.0)\r\n",
      "Requirement already satisfied: charset-normalizer<3,>=2 in /opt/conda/lib/python3.7/site-packages (from requests->huggingface-hub->timm) (2.1.0)\r\n",
      "Requirement already satisfied: certifi>=2017.4.17 in /opt/conda/lib/python3.7/site-packages (from requests->huggingface-hub->timm) (2022.6.15.2)\r\n",
      "Requirement already satisfied: idna<4,>=2.5 in /opt/conda/lib/python3.7/site-packages (from requests->huggingface-hub->timm) (3.3)\r\n",
      "Requirement already satisfied: urllib3<1.27,>=1.21.1 in /opt/conda/lib/python3.7/site-packages (from requests->huggingface-hub->timm) (1.26.12)\r\n",
      "Installing collected packages: timm\r\n",
      "Successfully installed timm-0.6.11\r\n",
      "\u001b[33mWARNING: Running pip as the 'root' user can result in broken permissions and conflicting behaviour with the system package manager. It is recommended to use a virtual environment instead: https://pip.pypa.io/warnings/venv\u001b[0m\u001b[33m\r\n",
      "\u001b[0m"
     ]
    }
   ],
   "source": [
    "!pip install timm"
   ]
  },
  {
   "cell_type": "code",
   "execution_count": 2,
   "id": "68c586a1",
   "metadata": {
    "execution": {
     "iopub.execute_input": "2022-10-05T21:36:53.608961Z",
     "iopub.status.busy": "2022-10-05T21:36:53.608415Z",
     "iopub.status.idle": "2022-10-05T21:36:57.897782Z",
     "shell.execute_reply": "2022-10-05T21:36:57.896746Z"
    },
    "papermill": {
     "duration": 4.301657,
     "end_time": "2022-10-05T21:36:57.900790",
     "exception": false,
     "start_time": "2022-10-05T21:36:53.599133",
     "status": "completed"
    },
    "tags": []
   },
   "outputs": [],
   "source": [
    "import torch\n",
    "import torch.nn.functional as F\n",
    "import timm\n",
    "import numpy as np\n",
    "from torch.nn import Module\n",
    "from torchvision import transforms\n",
    "from torchvision.transforms.functional import resize, normalize, pil_to_tensor\n",
    "from torch.utils.data import DataLoader, ConcatDataset\n",
    "from datasets import load_from_disk\n",
    "from scipy.linalg import eigh"
   ]
  },
  {
   "cell_type": "code",
   "execution_count": 3,
   "id": "cf114b50",
   "metadata": {
    "execution": {
     "iopub.execute_input": "2022-10-05T21:36:57.919556Z",
     "iopub.status.busy": "2022-10-05T21:36:57.917697Z",
     "iopub.status.idle": "2022-10-05T21:36:57.924746Z",
     "shell.execute_reply": "2022-10-05T21:36:57.923320Z"
    },
    "papermill": {
     "duration": 0.019068,
     "end_time": "2022-10-05T21:36:57.927326",
     "exception": false,
     "start_time": "2022-10-05T21:36:57.908258",
     "status": "completed"
    },
    "tags": []
   },
   "outputs": [],
   "source": [
    "EMBEDDING_DIMENSION = 64\n",
    "BEIT_MODEL = 'beit_large_patch16_224_in22k'"
   ]
  },
  {
   "cell_type": "code",
   "execution_count": 4,
   "id": "36df8377",
   "metadata": {
    "execution": {
     "iopub.execute_input": "2022-10-05T21:36:57.944846Z",
     "iopub.status.busy": "2022-10-05T21:36:57.943997Z",
     "iopub.status.idle": "2022-10-05T21:36:57.949967Z",
     "shell.execute_reply": "2022-10-05T21:36:57.949144Z"
    },
    "papermill": {
     "duration": 0.017139,
     "end_time": "2022-10-05T21:36:57.952201",
     "exception": false,
     "start_time": "2022-10-05T21:36:57.935062",
     "status": "completed"
    },
    "tags": []
   },
   "outputs": [],
   "source": [
    "IMAGENET_TRAIN = '../input/guie-imagenetmini-1k/imagenetmini_1k_train'\n",
    "IMAGENET_VAL = '../input/guie-imagenetmini-1k/imagenetmini_1k_val'\n",
    "LANDMARKS_TRAIN = '../input/guie-landmarks/landmarks_train'\n",
    "LANDMARKS_VAL = '../input/guie-landmarks/landmarks_val'\n",
    "FURNITURE_TRAIN = '../input/guie-furniture/furniture_train'\n",
    "FURNITURE_VAL = '../input/guie-furniture/furniture_val'\n",
    "PRODUCTS_TRAIN = '../input/beit-products10k/products_train'\n",
    "PRODUCTS_VAL = '../input/beit-products10k/products_val'"
   ]
  },
  {
   "cell_type": "code",
   "execution_count": 5,
   "id": "c41d8150",
   "metadata": {
    "execution": {
     "iopub.execute_input": "2022-10-05T21:36:57.968750Z",
     "iopub.status.busy": "2022-10-05T21:36:57.967893Z",
     "iopub.status.idle": "2022-10-05T21:36:59.181297Z",
     "shell.execute_reply": "2022-10-05T21:36:59.179883Z"
    },
    "papermill": {
     "duration": 1.225365,
     "end_time": "2022-10-05T21:36:59.184528",
     "exception": false,
     "start_time": "2022-10-05T21:36:57.959163",
     "status": "completed"
    },
    "tags": []
   },
   "outputs": [
    {
     "name": "stdout",
     "output_type": "stream",
     "text": [
      "Dataset({\n",
      "    features: ['label', 'beit'],\n",
      "    num_rows: 70593\n",
      "}) Dataset({\n",
      "    features: ['label', 'beit'],\n",
      "    num_rows: 7768\n",
      "})\n",
      "78361\n"
     ]
    }
   ],
   "source": [
    "landmarks_train = load_from_disk(LANDMARKS_TRAIN)\n",
    "landmarks_train.set_format(type='torch')\n",
    "landmarks_val = load_from_disk(LANDMARKS_VAL)\n",
    "landmarks_val.set_format(type='torch')\n",
    "landmarks_all = ConcatDataset([landmarks_train, landmarks_val])\n",
    "print(landmarks_train, landmarks_val)\n",
    "print(len(landmarks_all))"
   ]
  },
  {
   "cell_type": "code",
   "execution_count": 6,
   "id": "85124452",
   "metadata": {
    "execution": {
     "iopub.execute_input": "2022-10-05T21:36:59.201914Z",
     "iopub.status.busy": "2022-10-05T21:36:59.201386Z",
     "iopub.status.idle": "2022-10-05T21:36:59.361400Z",
     "shell.execute_reply": "2022-10-05T21:36:59.359391Z"
    },
    "papermill": {
     "duration": 0.173073,
     "end_time": "2022-10-05T21:36:59.365241",
     "exception": false,
     "start_time": "2022-10-05T21:36:59.192168",
     "status": "completed"
    },
    "tags": []
   },
   "outputs": [
    {
     "name": "stdout",
     "output_type": "stream",
     "text": [
      "Dataset({\n",
      "    features: ['label', 'beit'],\n",
      "    num_rows: 8415\n",
      "}) Dataset({\n",
      "    features: ['label', 'beit'],\n",
      "    num_rows: 931\n",
      "})\n",
      "9346\n"
     ]
    }
   ],
   "source": [
    "furniture_train = load_from_disk(FURNITURE_TRAIN)\n",
    "furniture_train.set_format(type='torch')\n",
    "furniture_val = load_from_disk(FURNITURE_VAL)\n",
    "furniture_val.set_format(type='torch')\n",
    "furniture_all = ConcatDataset([furniture_train, furniture_val])\n",
    "print(furniture_train, furniture_val)\n",
    "print(len(furniture_all))"
   ]
  },
  {
   "cell_type": "code",
   "execution_count": 7,
   "id": "07cfc708",
   "metadata": {
    "execution": {
     "iopub.execute_input": "2022-10-05T21:36:59.381963Z",
     "iopub.status.busy": "2022-10-05T21:36:59.381554Z",
     "iopub.status.idle": "2022-10-05T21:37:06.310735Z",
     "shell.execute_reply": "2022-10-05T21:37:06.308912Z"
    },
    "papermill": {
     "duration": 6.940992,
     "end_time": "2022-10-05T21:37:06.313861",
     "exception": false,
     "start_time": "2022-10-05T21:36:59.372869",
     "status": "completed"
    },
    "tags": []
   },
   "outputs": [
    {
     "name": "stdout",
     "output_type": "stream",
     "text": [
      "Dataset({\n",
      "    features: ['label', 'beit'],\n",
      "    num_rows: 127890\n",
      "}) Dataset({\n",
      "    features: ['label', 'beit'],\n",
      "    num_rows: 14041\n",
      "})\n",
      "141931\n"
     ]
    }
   ],
   "source": [
    "products_train = load_from_disk(PRODUCTS_TRAIN)\n",
    "products_train.set_format(type='torch')\n",
    "products_val = load_from_disk(PRODUCTS_VAL)\n",
    "products_val.set_format(type='torch')\n",
    "products_all = ConcatDataset([products_train, products_val])\n",
    "print(products_train, products_val)\n",
    "print(len(products_all))"
   ]
  },
  {
   "cell_type": "code",
   "execution_count": 8,
   "id": "11600ba2",
   "metadata": {
    "execution": {
     "iopub.execute_input": "2022-10-05T21:37:06.331060Z",
     "iopub.status.busy": "2022-10-05T21:37:06.330625Z",
     "iopub.status.idle": "2022-10-05T21:37:06.884380Z",
     "shell.execute_reply": "2022-10-05T21:37:06.882741Z"
    },
    "papermill": {
     "duration": 0.565552,
     "end_time": "2022-10-05T21:37:06.887254",
     "exception": false,
     "start_time": "2022-10-05T21:37:06.321702",
     "status": "completed"
    },
    "tags": []
   },
   "outputs": [
    {
     "name": "stdout",
     "output_type": "stream",
     "text": [
      "Dataset({\n",
      "    features: ['label', 'beit'],\n",
      "    num_rows: 34745\n",
      "}) Dataset({\n",
      "    features: ['label', 'beit'],\n",
      "    num_rows: 3923\n",
      "})\n",
      "38668\n"
     ]
    }
   ],
   "source": [
    "imagenet_train = load_from_disk(IMAGENET_TRAIN)\n",
    "imagenet_train.set_format(type='torch')\n",
    "imagenet_val = load_from_disk(IMAGENET_VAL)\n",
    "imagenet_val.set_format(type='torch')\n",
    "imagenet_all = ConcatDataset([imagenet_train, imagenet_val])\n",
    "print(imagenet_train, imagenet_val)\n",
    "print(len(imagenet_all))"
   ]
  },
  {
   "cell_type": "code",
   "execution_count": 9,
   "id": "bb4af3fb",
   "metadata": {
    "execution": {
     "iopub.execute_input": "2022-10-05T21:37:06.904618Z",
     "iopub.status.busy": "2022-10-05T21:37:06.904180Z",
     "iopub.status.idle": "2022-10-05T21:37:06.910101Z",
     "shell.execute_reply": "2022-10-05T21:37:06.909012Z"
    },
    "papermill": {
     "duration": 0.017949,
     "end_time": "2022-10-05T21:37:06.913142",
     "exception": false,
     "start_time": "2022-10-05T21:37:06.895193",
     "status": "completed"
    },
    "tags": []
   },
   "outputs": [
    {
     "name": "stdout",
     "output_type": "stream",
     "text": [
      "268306\n"
     ]
    }
   ],
   "source": [
    "dataset = ConcatDataset([landmarks_all, furniture_all, products_all, imagenet_all])\n",
    "print(len(dataset))"
   ]
  },
  {
   "cell_type": "markdown",
   "id": "b35b5726",
   "metadata": {
    "papermill": {
     "duration": 0.007348,
     "end_time": "2022-10-05T21:37:06.928647",
     "exception": false,
     "start_time": "2022-10-05T21:37:06.921299",
     "status": "completed"
    },
    "tags": []
   },
   "source": [
    "Current weights of different categories in `dataset` are"
   ]
  },
  {
   "cell_type": "code",
   "execution_count": 10,
   "id": "7aa676a0",
   "metadata": {
    "execution": {
     "iopub.execute_input": "2022-10-05T21:37:06.947073Z",
     "iopub.status.busy": "2022-10-05T21:37:06.946670Z",
     "iopub.status.idle": "2022-10-05T21:37:06.952395Z",
     "shell.execute_reply": "2022-10-05T21:37:06.951640Z"
    },
    "papermill": {
     "duration": 0.018631,
     "end_time": "2022-10-05T21:37:06.954801",
     "exception": false,
     "start_time": "2022-10-05T21:37:06.936170",
     "status": "completed"
    },
    "tags": []
   },
   "outputs": [
    {
     "name": "stdout",
     "output_type": "stream",
     "text": [
      "0.29205832146877075\n",
      "0.03483336190767258\n",
      "0.5289892883498691\n",
      "0.1441190282736875\n"
     ]
    }
   ],
   "source": [
    "print(len(landmarks_all) / len(dataset))\n",
    "print(len(furniture_all) / len(dataset))\n",
    "print(len(products_all) / len(dataset))\n",
    "print(len(imagenet_all) / len(dataset))"
   ]
  },
  {
   "cell_type": "markdown",
   "id": "352630dd",
   "metadata": {
    "papermill": {
     "duration": 0.007101,
     "end_time": "2022-10-05T21:37:06.969332",
     "exception": false,
     "start_time": "2022-10-05T21:37:06.962231",
     "status": "completed"
    },
    "tags": []
   },
   "source": [
    "We'd like to assign weights to examples so that the category distribution would resemble more closely the dataset on which the model is evaluated. Let's try the following target weights  \n",
    "landmarks -> 0.196  \n",
    "furniture -> 0.106  \n",
    "products -> 0.199  \n",
    "imagenet -> rest = 0.499"
   ]
  },
  {
   "cell_type": "code",
   "execution_count": 11,
   "id": "52ac47b0",
   "metadata": {
    "execution": {
     "iopub.execute_input": "2022-10-05T21:37:06.987076Z",
     "iopub.status.busy": "2022-10-05T21:37:06.986130Z",
     "iopub.status.idle": "2022-10-05T21:37:06.996799Z",
     "shell.execute_reply": "2022-10-05T21:37:06.995675Z"
    },
    "papermill": {
     "duration": 0.022341,
     "end_time": "2022-10-05T21:37:06.999104",
     "exception": false,
     "start_time": "2022-10-05T21:37:06.976763",
     "status": "completed"
    },
    "tags": []
   },
   "outputs": [
    {
     "data": {
      "text/plain": [
       "{'landmarks': 0.6710988374318858,\n",
       " 'furniture': 3.043059704686497,\n",
       " 'products': 0.3761890918826754,\n",
       " 'imagenet': 3.462415796007034}"
      ]
     },
     "execution_count": 11,
     "metadata": {},
     "output_type": "execute_result"
    }
   ],
   "source": [
    "category_weights = {\n",
    "    'landmarks': len(dataset) / len(landmarks_all) * 0.196,\n",
    "    'furniture': len(dataset) / len(furniture_all) * 0.106,\n",
    "    'products': len(dataset) / len(products_all) * 0.199,\n",
    "    'imagenet': len(dataset) / len(imagenet_all) * 0.499\n",
    "}\n",
    "category_weights"
   ]
  },
  {
   "cell_type": "code",
   "execution_count": 12,
   "id": "78bfb0c5",
   "metadata": {
    "execution": {
     "iopub.execute_input": "2022-10-05T21:37:07.016698Z",
     "iopub.status.busy": "2022-10-05T21:37:07.016230Z",
     "iopub.status.idle": "2022-10-05T21:37:07.040977Z",
     "shell.execute_reply": "2022-10-05T21:37:07.039851Z"
    },
    "papermill": {
     "duration": 0.037591,
     "end_time": "2022-10-05T21:37:07.044588",
     "exception": false,
     "start_time": "2022-10-05T21:37:07.006997",
     "status": "completed"
    },
    "tags": []
   },
   "outputs": [
    {
     "name": "stdout",
     "output_type": "stream",
     "text": [
      "268306\n"
     ]
    }
   ],
   "source": [
    "weights = torch.tensor(\n",
    "    [category_weights['landmarks']] * len(landmarks_all)\n",
    "    + [category_weights['furniture']] * len(furniture_all)\n",
    "    + [category_weights['products']] * len(products_all)\n",
    "    + [category_weights['imagenet']] * len(imagenet_all)\n",
    ")\n",
    "print(len(weights))"
   ]
  },
  {
   "cell_type": "markdown",
   "id": "44a65ac9",
   "metadata": {
    "execution": {
     "iopub.execute_input": "2022-10-05T13:43:04.665691Z",
     "iopub.status.busy": "2022-10-05T13:43:04.665229Z",
     "iopub.status.idle": "2022-10-05T13:43:04.673181Z",
     "shell.execute_reply": "2022-10-05T13:43:04.671752Z",
     "shell.execute_reply.started": "2022-10-05T13:43:04.665655Z"
    },
    "papermill": {
     "duration": 0.007538,
     "end_time": "2022-10-05T21:37:07.060921",
     "exception": false,
     "start_time": "2022-10-05T21:37:07.053383",
     "status": "completed"
    },
    "tags": []
   },
   "source": [
    "Compute weighted PCA down to 64 dimensions."
   ]
  },
  {
   "cell_type": "code",
   "execution_count": 13,
   "id": "d91a2b2d",
   "metadata": {
    "execution": {
     "iopub.execute_input": "2022-10-05T21:37:07.078976Z",
     "iopub.status.busy": "2022-10-05T21:37:07.078555Z",
     "iopub.status.idle": "2022-10-05T21:37:22.921950Z",
     "shell.execute_reply": "2022-10-05T21:37:22.920376Z"
    },
    "papermill": {
     "duration": 15.855233,
     "end_time": "2022-10-05T21:37:22.924889",
     "exception": false,
     "start_time": "2022-10-05T21:37:07.069656",
     "status": "completed"
    },
    "tags": []
   },
   "outputs": [
    {
     "name": "stdout",
     "output_type": "stream",
     "text": [
      "torch.Size([268306, 1024])\n"
     ]
    }
   ],
   "source": [
    "X = torch.cat([\n",
    "    landmarks_train['beit'], landmarks_val['beit'],\n",
    "    furniture_train['beit'], furniture_val['beit'],\n",
    "    products_train['beit'], products_val['beit'],\n",
    "    imagenet_train['beit'], imagenet_val['beit']\n",
    "])\n",
    "print(X.shape)"
   ]
  },
  {
   "cell_type": "code",
   "execution_count": 14,
   "id": "06e1a5d7",
   "metadata": {
    "execution": {
     "iopub.execute_input": "2022-10-05T21:37:22.944984Z",
     "iopub.status.busy": "2022-10-05T21:37:22.943525Z",
     "iopub.status.idle": "2022-10-05T21:37:22.951252Z",
     "shell.execute_reply": "2022-10-05T21:37:22.950031Z"
    },
    "papermill": {
     "duration": 0.019689,
     "end_time": "2022-10-05T21:37:22.953710",
     "exception": false,
     "start_time": "2022-10-05T21:37:22.934021",
     "status": "completed"
    },
    "tags": []
   },
   "outputs": [],
   "source": [
    "def weighted_PCA(X, weights):\n",
    "    n, p = X.shape\n",
    "    mean = (weights @ X) / weights.sum()\n",
    "    X_centered = X - mean\n",
    "    cov = ((weights * X_centered.T) @ X_centered) / weights.sum()\n",
    "    vals, vecs = eigh(cov, subset_by_index=[p - EMBEDDING_DIMENSION, p - 1])\n",
    "    vals = torch.from_numpy(vals)\n",
    "    vecs = torch.from_numpy(vecs)\n",
    "    return mean, vals, vecs"
   ]
  },
  {
   "cell_type": "code",
   "execution_count": 15,
   "id": "ee48c8a0",
   "metadata": {
    "execution": {
     "iopub.execute_input": "2022-10-05T21:37:22.971520Z",
     "iopub.status.busy": "2022-10-05T21:37:22.971026Z",
     "iopub.status.idle": "2022-10-05T21:37:29.441150Z",
     "shell.execute_reply": "2022-10-05T21:37:29.439945Z"
    },
    "papermill": {
     "duration": 6.482338,
     "end_time": "2022-10-05T21:37:29.444024",
     "exception": false,
     "start_time": "2022-10-05T21:37:22.961686",
     "status": "completed"
    },
    "tags": []
   },
   "outputs": [],
   "source": [
    "mean, explained_variances, W = weighted_PCA(X, weights)"
   ]
  },
  {
   "cell_type": "markdown",
   "id": "34872ed7",
   "metadata": {
    "papermill": {
     "duration": 0.007294,
     "end_time": "2022-10-05T21:37:29.459067",
     "exception": false,
     "start_time": "2022-10-05T21:37:29.451773",
     "status": "completed"
    },
    "tags": []
   },
   "source": [
    "Actual model simply computes BEiT embeddings and projects down to 64 dimensions with PCA trained on the dataset."
   ]
  },
  {
   "cell_type": "code",
   "execution_count": 16,
   "id": "b1bd54e8",
   "metadata": {
    "execution": {
     "iopub.execute_input": "2022-10-05T21:37:29.477235Z",
     "iopub.status.busy": "2022-10-05T21:37:29.475954Z",
     "iopub.status.idle": "2022-10-05T21:37:29.485614Z",
     "shell.execute_reply": "2022-10-05T21:37:29.484342Z"
    },
    "papermill": {
     "duration": 0.021183,
     "end_time": "2022-10-05T21:37:29.488144",
     "exception": false,
     "start_time": "2022-10-05T21:37:29.466961",
     "status": "completed"
    },
    "tags": []
   },
   "outputs": [],
   "source": [
    "class GUIE(Module):\n",
    "    def __init__(self):\n",
    "        super().__init__()\n",
    "        self.beit = timm.create_model(BEIT_MODEL, pretrained=True, num_classes=0)\n",
    "        self.pca_mean = mean\n",
    "        self.pca_projector = W\n",
    "        self.beit.requires_grad_(False)\n",
    "\n",
    "    def forward(self, image_batch):\n",
    "        '''\n",
    "        Model consumes images as tensors (not PIL-images) and outputs embeddings as tensors.\n",
    "        Expected shape: (batch, colors, width, height)\n",
    "        '''\n",
    "        image_tensors = image_batch / 255.\n",
    "        image_tensors = resize(image_tensors, size=(224, 224))\n",
    "        image_tensors = normalize(\n",
    "            image_tensors,\n",
    "            mean=[0.5, 0.5, 0.5],\n",
    "            std=[0.5, 0.5, 0.5]\n",
    "        )\n",
    "        embeddings = self.beit(image_tensors)\n",
    "        embeddings = (embeddings - self.pca_mean) @ self.pca_projector\n",
    "        return embeddings"
   ]
  },
  {
   "cell_type": "code",
   "execution_count": 17,
   "id": "d0c2cbe9",
   "metadata": {
    "execution": {
     "iopub.execute_input": "2022-10-05T21:37:29.505617Z",
     "iopub.status.busy": "2022-10-05T21:37:29.505199Z",
     "iopub.status.idle": "2022-10-05T21:37:55.787871Z",
     "shell.execute_reply": "2022-10-05T21:37:55.786410Z"
    },
    "papermill": {
     "duration": 26.294761,
     "end_time": "2022-10-05T21:37:55.790862",
     "exception": false,
     "start_time": "2022-10-05T21:37:29.496101",
     "status": "completed"
    },
    "tags": []
   },
   "outputs": [
    {
     "name": "stderr",
     "output_type": "stream",
     "text": [
      "/opt/conda/lib/python3.7/site-packages/torch/functional.py:568: UserWarning: torch.meshgrid: in an upcoming release, it will be required to pass the indexing argument. (Triggered internally at  ../aten/src/ATen/native/TensorShape.cpp:2228.)\n",
      "  return _VF.meshgrid(tensors, **kwargs)  # type: ignore[attr-defined]\n",
      "Downloading: \"https://conversationhub.blob.core.windows.net/beit-share-public/beit/beit_large_patch16_224_pt22k_ft22k.pth\" to /root/.cache/torch/hub/checkpoints/beit_large_patch16_224_pt22k_ft22k.pth\n"
     ]
    }
   ],
   "source": [
    "model = GUIE()\n",
    "model.eval()\n",
    "saved_model = torch.jit.script(model)\n",
    "saved_model.save('saved_model.pt')"
   ]
  },
  {
   "cell_type": "code",
   "execution_count": 18,
   "id": "7e39dd69",
   "metadata": {
    "execution": {
     "iopub.execute_input": "2022-10-05T21:37:55.810137Z",
     "iopub.status.busy": "2022-10-05T21:37:55.808849Z",
     "iopub.status.idle": "2022-10-05T21:38:00.720858Z",
     "shell.execute_reply": "2022-10-05T21:38:00.719657Z"
    },
    "papermill": {
     "duration": 4.924842,
     "end_time": "2022-10-05T21:38:00.723849",
     "exception": false,
     "start_time": "2022-10-05T21:37:55.799007",
     "status": "completed"
    },
    "tags": []
   },
   "outputs": [],
   "source": [
    "from zipfile import ZipFile\n",
    "with ZipFile('submission.zip', 'w') as zip:\n",
    "    zip.write('./saved_model.pt', arcname='saved_model.pt')"
   ]
  },
  {
   "cell_type": "code",
   "execution_count": 19,
   "id": "6d127483",
   "metadata": {
    "execution": {
     "iopub.execute_input": "2022-10-05T21:38:00.742860Z",
     "iopub.status.busy": "2022-10-05T21:38:00.742398Z",
     "iopub.status.idle": "2022-10-05T21:38:01.212843Z",
     "shell.execute_reply": "2022-10-05T21:38:01.211565Z"
    },
    "papermill": {
     "duration": 0.484036,
     "end_time": "2022-10-05T21:38:01.216082",
     "exception": false,
     "start_time": "2022-10-05T21:38:00.732046",
     "status": "completed"
    },
    "tags": []
   },
   "outputs": [],
   "source": [
    "from PIL import Image\n",
    "from torchvision import transforms\n",
    "import requests\n",
    "url = 'http://images.cocodataset.org/val2017/000000039769.jpg'\n",
    "input_image = Image.open(requests.get(url, stream=True).raw).convert('RGB')\n",
    "saved_model_path = 'saved_model.pt'\n",
    "convert_to_tensor = transforms.Compose([transforms.PILToTensor()])\n",
    "input_tensor = convert_to_tensor(input_image)\n",
    "input_batch = input_tensor.unsqueeze(0)"
   ]
  },
  {
   "cell_type": "code",
   "execution_count": 20,
   "id": "45a138d4",
   "metadata": {
    "execution": {
     "iopub.execute_input": "2022-10-05T21:38:01.234933Z",
     "iopub.status.busy": "2022-10-05T21:38:01.234413Z",
     "iopub.status.idle": "2022-10-05T21:38:04.589323Z",
     "shell.execute_reply": "2022-10-05T21:38:04.587083Z"
    },
    "papermill": {
     "duration": 3.367582,
     "end_time": "2022-10-05T21:38:04.592167",
     "exception": false,
     "start_time": "2022-10-05T21:38:01.224585",
     "status": "completed"
    },
    "tags": []
   },
   "outputs": [
    {
     "data": {
      "text/plain": [
       "array([ 0.2632971 , -1.6655103 , -2.4893472 ,  3.7273684 ,  1.3950839 ,\n",
       "        1.3776908 , -2.0331917 ,  0.85838693,  1.6138374 ,  2.3114119 ,\n",
       "        2.5594916 , -4.367251  , -1.1665906 ,  0.17241156,  1.1958246 ,\n",
       "       -1.2847953 , -2.8455603 , -2.202995  ,  1.9537129 , -1.8801165 ,\n",
       "       -2.186744  ,  1.4249673 ,  1.2141016 ,  0.55171984, -1.0276257 ,\n",
       "        0.09351698,  1.977908  ,  1.498049  , -2.2125213 ,  1.1878104 ,\n",
       "       -2.5432067 , -1.2673784 , -0.5995904 ,  1.3039222 ,  0.20791796,\n",
       "       -0.24558282,  0.26261878, -3.3305638 , -1.109017  , -0.13759184,\n",
       "       -0.65043414, -2.0158453 ,  0.8314079 ,  2.3849723 ,  0.49997306,\n",
       "       -1.1524358 ,  0.65752596,  1.7776992 , -0.82183826,  1.9799197 ,\n",
       "        0.80306333,  1.3667268 ,  1.4504836 , -2.1804628 ,  2.1219397 ,\n",
       "       -0.02977777,  1.3119843 , -2.319443  ,  1.876002  , -3.4972377 ,\n",
       "       -2.4339538 ,  2.4844184 , -4.4004545 ,  0.3981835 ], dtype=float32)"
      ]
     },
     "execution_count": 20,
     "metadata": {},
     "output_type": "execute_result"
    }
   ],
   "source": [
    "from PIL import Image\n",
    "import torch\n",
    "from torchvision import transforms\n",
    "\n",
    "# Model loading.\n",
    "model = torch.jit.load(saved_model_path)\n",
    "model.eval()\n",
    "embedding_fn = model\n",
    "\n",
    "# Load image and extract its embedding.\n",
    "#input_image = Image.open(image_path).convert(\"RGB\")\n",
    "with torch.no_grad():\n",
    "  embedding = torch.flatten(embedding_fn(input_batch)[0]).cpu().data.numpy()\n",
    "embedding"
   ]
  },
  {
   "cell_type": "code",
   "execution_count": null,
   "id": "371907dc",
   "metadata": {
    "papermill": {
     "duration": 0.007831,
     "end_time": "2022-10-05T21:38:04.608319",
     "exception": false,
     "start_time": "2022-10-05T21:38:04.600488",
     "status": "completed"
    },
    "tags": []
   },
   "outputs": [],
   "source": []
  }
 ],
 "metadata": {
  "kernelspec": {
   "display_name": "Python 3",
   "language": "python",
   "name": "python3"
  },
  "language_info": {
   "codemirror_mode": {
    "name": "ipython",
    "version": 3
   },
   "file_extension": ".py",
   "mimetype": "text/x-python",
   "name": "python",
   "nbconvert_exporter": "python",
   "pygments_lexer": "ipython3",
   "version": "3.7.12"
  },
  "papermill": {
   "default_parameters": {},
   "duration": 97.919264,
   "end_time": "2022-10-05T21:38:06.548715",
   "environment_variables": {},
   "exception": null,
   "input_path": "__notebook__.ipynb",
   "output_path": "__notebook__.ipynb",
   "parameters": {},
   "start_time": "2022-10-05T21:36:28.629451",
   "version": "2.3.4"
  }
 },
 "nbformat": 4,
 "nbformat_minor": 5
}

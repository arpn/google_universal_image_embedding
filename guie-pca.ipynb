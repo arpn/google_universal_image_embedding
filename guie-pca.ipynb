{
 "cells": [
  {
   "cell_type": "code",
   "execution_count": 1,
   "id": "9fcddc2a",
   "metadata": {
    "execution": {
     "iopub.execute_input": "2022-10-05T21:42:35.627818Z",
     "iopub.status.busy": "2022-10-05T21:42:35.627034Z",
     "iopub.status.idle": "2022-10-05T21:42:49.339724Z",
     "shell.execute_reply": "2022-10-05T21:42:49.338253Z"
    },
    "papermill": {
     "duration": 13.726106,
     "end_time": "2022-10-05T21:42:49.343801",
     "exception": false,
     "start_time": "2022-10-05T21:42:35.617695",
     "status": "completed"
    },
    "tags": []
   },
   "outputs": [
    {
     "name": "stdout",
     "output_type": "stream",
     "text": [
      "Collecting timm\r\n",
      "  Downloading timm-0.6.11-py3-none-any.whl (548 kB)\r\n",
      "\u001b[2K     \u001b[90m━━━━━━━━━━━━━━━━━━━━━━━━━━━━━━━━━━━━━━━\u001b[0m \u001b[32m548.7/548.7 kB\u001b[0m \u001b[31m9.1 MB/s\u001b[0m eta \u001b[36m0:00:00\u001b[0m\r\n",
      "\u001b[?25hRequirement already satisfied: torchvision in /opt/conda/lib/python3.7/site-packages (from timm) (0.12.0+cpu)\r\n",
      "Requirement already satisfied: torch>=1.7 in /opt/conda/lib/python3.7/site-packages (from timm) (1.11.0+cpu)\r\n",
      "Requirement already satisfied: pyyaml in /opt/conda/lib/python3.7/site-packages (from timm) (6.0)\r\n",
      "Requirement already satisfied: huggingface-hub in /opt/conda/lib/python3.7/site-packages (from timm) (0.8.1)\r\n",
      "Requirement already satisfied: typing-extensions in /opt/conda/lib/python3.7/site-packages (from torch>=1.7->timm) (4.3.0)\r\n",
      "Requirement already satisfied: tqdm in /opt/conda/lib/python3.7/site-packages (from huggingface-hub->timm) (4.64.0)\r\n",
      "Requirement already satisfied: packaging>=20.9 in /opt/conda/lib/python3.7/site-packages (from huggingface-hub->timm) (21.3)\r\n",
      "Requirement already satisfied: importlib-metadata in /opt/conda/lib/python3.7/site-packages (from huggingface-hub->timm) (4.12.0)\r\n",
      "Requirement already satisfied: requests in /opt/conda/lib/python3.7/site-packages (from huggingface-hub->timm) (2.28.1)\r\n",
      "Requirement already satisfied: filelock in /opt/conda/lib/python3.7/site-packages (from huggingface-hub->timm) (3.7.1)\r\n",
      "Requirement already satisfied: numpy in /opt/conda/lib/python3.7/site-packages (from torchvision->timm) (1.21.6)\r\n",
      "Requirement already satisfied: pillow!=8.3.*,>=5.3.0 in /opt/conda/lib/python3.7/site-packages (from torchvision->timm) (9.1.1)\r\n",
      "Requirement already satisfied: pyparsing!=3.0.5,>=2.0.2 in /opt/conda/lib/python3.7/site-packages (from packaging>=20.9->huggingface-hub->timm) (3.0.9)\r\n",
      "Requirement already satisfied: zipp>=0.5 in /opt/conda/lib/python3.7/site-packages (from importlib-metadata->huggingface-hub->timm) (3.8.0)\r\n",
      "Requirement already satisfied: urllib3<1.27,>=1.21.1 in /opt/conda/lib/python3.7/site-packages (from requests->huggingface-hub->timm) (1.26.12)\r\n",
      "Requirement already satisfied: charset-normalizer<3,>=2 in /opt/conda/lib/python3.7/site-packages (from requests->huggingface-hub->timm) (2.1.0)\r\n",
      "Requirement already satisfied: certifi>=2017.4.17 in /opt/conda/lib/python3.7/site-packages (from requests->huggingface-hub->timm) (2022.6.15.2)\r\n",
      "Requirement already satisfied: idna<4,>=2.5 in /opt/conda/lib/python3.7/site-packages (from requests->huggingface-hub->timm) (3.3)\r\n",
      "Installing collected packages: timm\r\n",
      "Successfully installed timm-0.6.11\r\n",
      "\u001b[33mWARNING: Running pip as the 'root' user can result in broken permissions and conflicting behaviour with the system package manager. It is recommended to use a virtual environment instead: https://pip.pypa.io/warnings/venv\u001b[0m\u001b[33m\r\n",
      "\u001b[0m"
     ]
    }
   ],
   "source": [
    "!pip install timm"
   ]
  },
  {
   "cell_type": "code",
   "execution_count": 2,
   "id": "3de831d6",
   "metadata": {
    "execution": {
     "iopub.execute_input": "2022-10-05T21:42:49.366026Z",
     "iopub.status.busy": "2022-10-05T21:42:49.365345Z",
     "iopub.status.idle": "2022-10-05T21:42:53.489782Z",
     "shell.execute_reply": "2022-10-05T21:42:53.488362Z"
    },
    "papermill": {
     "duration": 4.13875,
     "end_time": "2022-10-05T21:42:53.493272",
     "exception": false,
     "start_time": "2022-10-05T21:42:49.354522",
     "status": "completed"
    },
    "tags": []
   },
   "outputs": [],
   "source": [
    "import torch\n",
    "import torch.nn.functional as F\n",
    "import timm\n",
    "import numpy as np\n",
    "from torch.nn import Module\n",
    "from torchvision import transforms\n",
    "from torchvision.transforms.functional import resize, normalize, pil_to_tensor\n",
    "from torch.utils.data import DataLoader, ConcatDataset\n",
    "from datasets import load_from_disk\n",
    "from scipy.linalg import eigh"
   ]
  },
  {
   "cell_type": "code",
   "execution_count": 3,
   "id": "26c1e073",
   "metadata": {
    "execution": {
     "iopub.execute_input": "2022-10-05T21:42:53.509996Z",
     "iopub.status.busy": "2022-10-05T21:42:53.509174Z",
     "iopub.status.idle": "2022-10-05T21:42:53.514481Z",
     "shell.execute_reply": "2022-10-05T21:42:53.513294Z"
    },
    "papermill": {
     "duration": 0.01683,
     "end_time": "2022-10-05T21:42:53.517281",
     "exception": false,
     "start_time": "2022-10-05T21:42:53.500451",
     "status": "completed"
    },
    "tags": []
   },
   "outputs": [],
   "source": [
    "EMBEDDING_DIMENSION = 64\n",
    "BEIT_MODEL = 'beit_large_patch16_224_in22k'"
   ]
  },
  {
   "cell_type": "code",
   "execution_count": 4,
   "id": "2dba8780",
   "metadata": {
    "execution": {
     "iopub.execute_input": "2022-10-05T21:42:53.534416Z",
     "iopub.status.busy": "2022-10-05T21:42:53.533978Z",
     "iopub.status.idle": "2022-10-05T21:42:53.540040Z",
     "shell.execute_reply": "2022-10-05T21:42:53.538635Z"
    },
    "papermill": {
     "duration": 0.017448,
     "end_time": "2022-10-05T21:42:53.542448",
     "exception": false,
     "start_time": "2022-10-05T21:42:53.525000",
     "status": "completed"
    },
    "tags": []
   },
   "outputs": [],
   "source": [
    "IMAGENET_TRAIN = '../input/guie-imagenetmini-1k/imagenetmini_1k_train'\n",
    "IMAGENET_VAL = '../input/guie-imagenetmini-1k/imagenetmini_1k_val'\n",
    "LANDMARKS_TRAIN = '../input/guie-landmarks/landmarks_train'\n",
    "LANDMARKS_VAL = '../input/guie-landmarks/landmarks_val'\n",
    "FURNITURE_TRAIN = '../input/guie-furniture/furniture_train'\n",
    "FURNITURE_VAL = '../input/guie-furniture/furniture_val'\n",
    "PRODUCTS_TRAIN = '../input/beit-products10k/products_train'\n",
    "PRODUCTS_VAL = '../input/beit-products10k/products_val'"
   ]
  },
  {
   "cell_type": "code",
   "execution_count": 5,
   "id": "c1f5643f",
   "metadata": {
    "execution": {
     "iopub.execute_input": "2022-10-05T21:42:53.558545Z",
     "iopub.status.busy": "2022-10-05T21:42:53.558124Z",
     "iopub.status.idle": "2022-10-05T21:42:54.836464Z",
     "shell.execute_reply": "2022-10-05T21:42:54.835198Z"
    },
    "papermill": {
     "duration": 1.29085,
     "end_time": "2022-10-05T21:42:54.840414",
     "exception": false,
     "start_time": "2022-10-05T21:42:53.549564",
     "status": "completed"
    },
    "tags": []
   },
   "outputs": [
    {
     "name": "stdout",
     "output_type": "stream",
     "text": [
      "Dataset({\n",
      "    features: ['label', 'beit'],\n",
      "    num_rows: 70593\n",
      "}) Dataset({\n",
      "    features: ['label', 'beit'],\n",
      "    num_rows: 7768\n",
      "})\n",
      "78361\n"
     ]
    }
   ],
   "source": [
    "landmarks_train = load_from_disk(LANDMARKS_TRAIN)\n",
    "landmarks_train.set_format(type='torch')\n",
    "landmarks_val = load_from_disk(LANDMARKS_VAL)\n",
    "landmarks_val.set_format(type='torch')\n",
    "landmarks_all = ConcatDataset([landmarks_train, landmarks_val])\n",
    "print(landmarks_train, landmarks_val)\n",
    "print(len(landmarks_all))"
   ]
  },
  {
   "cell_type": "code",
   "execution_count": 6,
   "id": "19ee33e9",
   "metadata": {
    "execution": {
     "iopub.execute_input": "2022-10-05T21:42:54.857680Z",
     "iopub.status.busy": "2022-10-05T21:42:54.856950Z",
     "iopub.status.idle": "2022-10-05T21:42:55.040503Z",
     "shell.execute_reply": "2022-10-05T21:42:55.039070Z"
    },
    "papermill": {
     "duration": 0.194628,
     "end_time": "2022-10-05T21:42:55.042941",
     "exception": false,
     "start_time": "2022-10-05T21:42:54.848313",
     "status": "completed"
    },
    "tags": []
   },
   "outputs": [
    {
     "name": "stdout",
     "output_type": "stream",
     "text": [
      "Dataset({\n",
      "    features: ['label', 'beit'],\n",
      "    num_rows: 8415\n",
      "}) Dataset({\n",
      "    features: ['label', 'beit'],\n",
      "    num_rows: 931\n",
      "})\n",
      "9346\n"
     ]
    }
   ],
   "source": [
    "furniture_train = load_from_disk(FURNITURE_TRAIN)\n",
    "furniture_train.set_format(type='torch')\n",
    "furniture_val = load_from_disk(FURNITURE_VAL)\n",
    "furniture_val.set_format(type='torch')\n",
    "furniture_all = ConcatDataset([furniture_train, furniture_val])\n",
    "print(furniture_train, furniture_val)\n",
    "print(len(furniture_all))"
   ]
  },
  {
   "cell_type": "code",
   "execution_count": 7,
   "id": "31dcfd73",
   "metadata": {
    "execution": {
     "iopub.execute_input": "2022-10-05T21:42:55.059059Z",
     "iopub.status.busy": "2022-10-05T21:42:55.058307Z",
     "iopub.status.idle": "2022-10-05T21:43:01.222776Z",
     "shell.execute_reply": "2022-10-05T21:43:01.221038Z"
    },
    "papermill": {
     "duration": 6.175626,
     "end_time": "2022-10-05T21:43:01.225618",
     "exception": false,
     "start_time": "2022-10-05T21:42:55.049992",
     "status": "completed"
    },
    "tags": []
   },
   "outputs": [
    {
     "name": "stdout",
     "output_type": "stream",
     "text": [
      "Dataset({\n",
      "    features: ['label', 'beit'],\n",
      "    num_rows: 127890\n",
      "}) Dataset({\n",
      "    features: ['label', 'beit'],\n",
      "    num_rows: 14041\n",
      "})\n",
      "141931\n"
     ]
    }
   ],
   "source": [
    "products_train = load_from_disk(PRODUCTS_TRAIN)\n",
    "products_train.set_format(type='torch')\n",
    "products_val = load_from_disk(PRODUCTS_VAL)\n",
    "products_val.set_format(type='torch')\n",
    "products_all = ConcatDataset([products_train, products_val])\n",
    "print(products_train, products_val)\n",
    "print(len(products_all))"
   ]
  },
  {
   "cell_type": "code",
   "execution_count": 8,
   "id": "958fc5ca",
   "metadata": {
    "execution": {
     "iopub.execute_input": "2022-10-05T21:43:01.242069Z",
     "iopub.status.busy": "2022-10-05T21:43:01.241620Z",
     "iopub.status.idle": "2022-10-05T21:43:01.831291Z",
     "shell.execute_reply": "2022-10-05T21:43:01.829356Z"
    },
    "papermill": {
     "duration": 0.601618,
     "end_time": "2022-10-05T21:43:01.834760",
     "exception": false,
     "start_time": "2022-10-05T21:43:01.233142",
     "status": "completed"
    },
    "tags": []
   },
   "outputs": [
    {
     "name": "stdout",
     "output_type": "stream",
     "text": [
      "Dataset({\n",
      "    features: ['label', 'beit'],\n",
      "    num_rows: 34745\n",
      "}) Dataset({\n",
      "    features: ['label', 'beit'],\n",
      "    num_rows: 3923\n",
      "})\n",
      "38668\n"
     ]
    }
   ],
   "source": [
    "imagenet_train = load_from_disk(IMAGENET_TRAIN)\n",
    "imagenet_train.set_format(type='torch')\n",
    "imagenet_val = load_from_disk(IMAGENET_VAL)\n",
    "imagenet_val.set_format(type='torch')\n",
    "imagenet_all = ConcatDataset([imagenet_train, imagenet_val])\n",
    "print(imagenet_train, imagenet_val)\n",
    "print(len(imagenet_all))"
   ]
  },
  {
   "cell_type": "code",
   "execution_count": 9,
   "id": "d6f5cea4",
   "metadata": {
    "execution": {
     "iopub.execute_input": "2022-10-05T21:43:01.853037Z",
     "iopub.status.busy": "2022-10-05T21:43:01.851981Z",
     "iopub.status.idle": "2022-10-05T21:43:01.859456Z",
     "shell.execute_reply": "2022-10-05T21:43:01.857955Z"
    },
    "papermill": {
     "duration": 0.019705,
     "end_time": "2022-10-05T21:43:01.862294",
     "exception": false,
     "start_time": "2022-10-05T21:43:01.842589",
     "status": "completed"
    },
    "tags": []
   },
   "outputs": [
    {
     "name": "stdout",
     "output_type": "stream",
     "text": [
      "268306\n"
     ]
    }
   ],
   "source": [
    "dataset = ConcatDataset([landmarks_all, furniture_all, products_all, imagenet_all])\n",
    "print(len(dataset))"
   ]
  },
  {
   "cell_type": "markdown",
   "id": "3ebd7a99",
   "metadata": {
    "papermill": {
     "duration": 0.007572,
     "end_time": "2022-10-05T21:43:01.877250",
     "exception": false,
     "start_time": "2022-10-05T21:43:01.869678",
     "status": "completed"
    },
    "tags": []
   },
   "source": [
    "Current weights of different categories in `dataset` are"
   ]
  },
  {
   "cell_type": "code",
   "execution_count": 10,
   "id": "2a9d881a",
   "metadata": {
    "execution": {
     "iopub.execute_input": "2022-10-05T21:43:01.895636Z",
     "iopub.status.busy": "2022-10-05T21:43:01.895233Z",
     "iopub.status.idle": "2022-10-05T21:43:01.902618Z",
     "shell.execute_reply": "2022-10-05T21:43:01.901268Z"
    },
    "papermill": {
     "duration": 0.0212,
     "end_time": "2022-10-05T21:43:01.906041",
     "exception": false,
     "start_time": "2022-10-05T21:43:01.884841",
     "status": "completed"
    },
    "tags": []
   },
   "outputs": [
    {
     "name": "stdout",
     "output_type": "stream",
     "text": [
      "0.29205832146877075\n",
      "0.03483336190767258\n",
      "0.5289892883498691\n",
      "0.1441190282736875\n"
     ]
    }
   ],
   "source": [
    "print(len(landmarks_all) / len(dataset))\n",
    "print(len(furniture_all) / len(dataset))\n",
    "print(len(products_all) / len(dataset))\n",
    "print(len(imagenet_all) / len(dataset))"
   ]
  },
  {
   "cell_type": "markdown",
   "id": "46a2f5e6",
   "metadata": {
    "papermill": {
     "duration": 0.007135,
     "end_time": "2022-10-05T21:43:01.921602",
     "exception": false,
     "start_time": "2022-10-05T21:43:01.914467",
     "status": "completed"
    },
    "tags": []
   },
   "source": [
    "We'd like to assign weights to examples so that the category distribution would resemble more closely the dataset on which the model is evaluated. Let's try the following target weights  \n",
    "landmarks -> 0.196  \n",
    "furniture -> 0.106  \n",
    "products -> 0.199  \n",
    "imagenet -> rest = 0.499"
   ]
  },
  {
   "cell_type": "code",
   "execution_count": 11,
   "id": "91b9485e",
   "metadata": {
    "execution": {
     "iopub.execute_input": "2022-10-05T21:43:01.939511Z",
     "iopub.status.busy": "2022-10-05T21:43:01.938066Z",
     "iopub.status.idle": "2022-10-05T21:43:01.949519Z",
     "shell.execute_reply": "2022-10-05T21:43:01.948551Z"
    },
    "papermill": {
     "duration": 0.023014,
     "end_time": "2022-10-05T21:43:01.952089",
     "exception": false,
     "start_time": "2022-10-05T21:43:01.929075",
     "status": "completed"
    },
    "tags": []
   },
   "outputs": [
    {
     "data": {
      "text/plain": [
       "{'landmarks': 0.6710988374318858,\n",
       " 'furniture': 3.043059704686497,\n",
       " 'products': 0.3761890918826754,\n",
       " 'imagenet': 3.462415796007034}"
      ]
     },
     "execution_count": 11,
     "metadata": {},
     "output_type": "execute_result"
    }
   ],
   "source": [
    "category_weights = {\n",
    "    'landmarks': len(dataset) / len(landmarks_all) * 0.196,\n",
    "    'furniture': len(dataset) / len(furniture_all) * 0.106,\n",
    "    'products': len(dataset) / len(products_all) * 0.199,\n",
    "    'imagenet': len(dataset) / len(imagenet_all) * 0.499\n",
    "}\n",
    "category_weights"
   ]
  },
  {
   "cell_type": "code",
   "execution_count": 12,
   "id": "a9fe59fb",
   "metadata": {
    "execution": {
     "iopub.execute_input": "2022-10-05T21:43:01.971725Z",
     "iopub.status.busy": "2022-10-05T21:43:01.970671Z",
     "iopub.status.idle": "2022-10-05T21:43:01.995633Z",
     "shell.execute_reply": "2022-10-05T21:43:01.994628Z"
    },
    "papermill": {
     "duration": 0.037195,
     "end_time": "2022-10-05T21:43:01.997792",
     "exception": false,
     "start_time": "2022-10-05T21:43:01.960597",
     "status": "completed"
    },
    "tags": []
   },
   "outputs": [
    {
     "name": "stdout",
     "output_type": "stream",
     "text": [
      "268306\n"
     ]
    }
   ],
   "source": [
    "weights = torch.tensor(\n",
    "    [category_weights['landmarks']] * len(landmarks_all)\n",
    "    + [category_weights['furniture']] * len(furniture_all)\n",
    "    + [category_weights['products']] * len(products_all)\n",
    "    + [category_weights['imagenet']] * len(imagenet_all)\n",
    ")\n",
    "print(len(weights))"
   ]
  },
  {
   "cell_type": "markdown",
   "id": "ee6dab38",
   "metadata": {
    "execution": {
     "iopub.execute_input": "2022-10-05T13:43:04.665691Z",
     "iopub.status.busy": "2022-10-05T13:43:04.665229Z",
     "iopub.status.idle": "2022-10-05T13:43:04.673181Z",
     "shell.execute_reply": "2022-10-05T13:43:04.671752Z",
     "shell.execute_reply.started": "2022-10-05T13:43:04.665655Z"
    },
    "papermill": {
     "duration": 0.007513,
     "end_time": "2022-10-05T21:43:02.013422",
     "exception": false,
     "start_time": "2022-10-05T21:43:02.005909",
     "status": "completed"
    },
    "tags": []
   },
   "source": [
    "Compute weighted PCA down to 64 dimensions."
   ]
  },
  {
   "cell_type": "code",
   "execution_count": 13,
   "id": "e8d6747d",
   "metadata": {
    "execution": {
     "iopub.execute_input": "2022-10-05T21:43:02.031065Z",
     "iopub.status.busy": "2022-10-05T21:43:02.029769Z",
     "iopub.status.idle": "2022-10-05T21:43:16.732068Z",
     "shell.execute_reply": "2022-10-05T21:43:16.730678Z"
    },
    "papermill": {
     "duration": 14.713749,
     "end_time": "2022-10-05T21:43:16.734719",
     "exception": false,
     "start_time": "2022-10-05T21:43:02.020970",
     "status": "completed"
    },
    "tags": []
   },
   "outputs": [
    {
     "name": "stdout",
     "output_type": "stream",
     "text": [
      "torch.Size([268306, 1024])\n"
     ]
    }
   ],
   "source": [
    "X = torch.cat([\n",
    "    landmarks_train['beit'], landmarks_val['beit'],\n",
    "    furniture_train['beit'], furniture_val['beit'],\n",
    "    products_train['beit'], products_val['beit'],\n",
    "    imagenet_train['beit'], imagenet_val['beit']\n",
    "])\n",
    "print(X.shape)"
   ]
  },
  {
   "cell_type": "code",
   "execution_count": 14,
   "id": "b9d2b1eb",
   "metadata": {
    "execution": {
     "iopub.execute_input": "2022-10-05T21:43:16.752371Z",
     "iopub.status.busy": "2022-10-05T21:43:16.751970Z",
     "iopub.status.idle": "2022-10-05T21:43:16.758834Z",
     "shell.execute_reply": "2022-10-05T21:43:16.757458Z"
    },
    "papermill": {
     "duration": 0.018495,
     "end_time": "2022-10-05T21:43:16.761203",
     "exception": false,
     "start_time": "2022-10-05T21:43:16.742708",
     "status": "completed"
    },
    "tags": []
   },
   "outputs": [],
   "source": [
    "def weighted_PCA(X, weights):\n",
    "    n, p = X.shape\n",
    "    mean = (weights @ X) / weights.sum()\n",
    "    X_centered = X - mean\n",
    "    cov = ((weights * X_centered.T) @ X_centered) / weights.sum()\n",
    "    vals, vecs = eigh(cov, subset_by_index=[p - EMBEDDING_DIMENSION, p - 1])\n",
    "    vals = torch.from_numpy(vals)\n",
    "    vecs = torch.from_numpy(vecs)\n",
    "    return mean, vals, vecs"
   ]
  },
  {
   "cell_type": "code",
   "execution_count": 15,
   "id": "45908aad",
   "metadata": {
    "execution": {
     "iopub.execute_input": "2022-10-05T21:43:16.778616Z",
     "iopub.status.busy": "2022-10-05T21:43:16.778222Z",
     "iopub.status.idle": "2022-10-05T21:43:22.563670Z",
     "shell.execute_reply": "2022-10-05T21:43:22.562177Z"
    },
    "papermill": {
     "duration": 5.798776,
     "end_time": "2022-10-05T21:43:22.567784",
     "exception": false,
     "start_time": "2022-10-05T21:43:16.769008",
     "status": "completed"
    },
    "tags": []
   },
   "outputs": [],
   "source": [
    "mean, explained_variances, W = weighted_PCA(X, weights)"
   ]
  },
  {
   "cell_type": "markdown",
   "id": "832a7fef",
   "metadata": {
    "papermill": {
     "duration": 0.011097,
     "end_time": "2022-10-05T21:43:22.592846",
     "exception": false,
     "start_time": "2022-10-05T21:43:22.581749",
     "status": "completed"
    },
    "tags": []
   },
   "source": [
    "Actual model simply computes BEiT embeddings and projects down to 64 dimensions with PCA trained on the dataset."
   ]
  },
  {
   "cell_type": "code",
   "execution_count": 16,
   "id": "1f1cb46a",
   "metadata": {
    "execution": {
     "iopub.execute_input": "2022-10-05T21:43:22.611263Z",
     "iopub.status.busy": "2022-10-05T21:43:22.610266Z",
     "iopub.status.idle": "2022-10-05T21:43:22.619269Z",
     "shell.execute_reply": "2022-10-05T21:43:22.618146Z"
    },
    "papermill": {
     "duration": 0.021419,
     "end_time": "2022-10-05T21:43:22.622306",
     "exception": false,
     "start_time": "2022-10-05T21:43:22.600887",
     "status": "completed"
    },
    "tags": []
   },
   "outputs": [],
   "source": [
    "class GUIE(Module):\n",
    "    def __init__(self):\n",
    "        super().__init__()\n",
    "        self.beit = timm.create_model(BEIT_MODEL, pretrained=True, num_classes=0)\n",
    "        self.pca_mean = mean\n",
    "        self.pca_projector = W\n",
    "        self.beit.requires_grad_(False)\n",
    "\n",
    "    def forward(self, image_batch):\n",
    "        '''\n",
    "        Model consumes images as tensors (not PIL-images) and outputs embeddings as tensors.\n",
    "        Expected shape: (batch, colors, width, height)\n",
    "        '''\n",
    "        image_tensors = image_batch / 255.\n",
    "        image_tensors = resize(image_tensors, size=(224, 224))\n",
    "        image_tensors = normalize(\n",
    "            image_tensors,\n",
    "            mean=[0.5, 0.5, 0.5],\n",
    "            std=[0.5, 0.5, 0.5]\n",
    "        )\n",
    "        embeddings = self.beit(image_tensors)\n",
    "        embeddings = (embeddings - self.pca_mean) @ self.pca_projector\n",
    "        return embeddings"
   ]
  },
  {
   "cell_type": "code",
   "execution_count": 17,
   "id": "98b7e28e",
   "metadata": {
    "execution": {
     "iopub.execute_input": "2022-10-05T21:43:22.641690Z",
     "iopub.status.busy": "2022-10-05T21:43:22.640411Z",
     "iopub.status.idle": "2022-10-05T21:44:58.066233Z",
     "shell.execute_reply": "2022-10-05T21:44:58.064721Z"
    },
    "papermill": {
     "duration": 95.439098,
     "end_time": "2022-10-05T21:44:58.070033",
     "exception": false,
     "start_time": "2022-10-05T21:43:22.630935",
     "status": "completed"
    },
    "tags": []
   },
   "outputs": [
    {
     "name": "stderr",
     "output_type": "stream",
     "text": [
      "/opt/conda/lib/python3.7/site-packages/torch/functional.py:568: UserWarning: torch.meshgrid: in an upcoming release, it will be required to pass the indexing argument. (Triggered internally at  ../aten/src/ATen/native/TensorShape.cpp:2228.)\n",
      "  return _VF.meshgrid(tensors, **kwargs)  # type: ignore[attr-defined]\n",
      "Downloading: \"https://conversationhub.blob.core.windows.net/beit-share-public/beit/beit_large_patch16_224_pt22k_ft22k.pth\" to /root/.cache/torch/hub/checkpoints/beit_large_patch16_224_pt22k_ft22k.pth\n"
     ]
    }
   ],
   "source": [
    "model = GUIE()\n",
    "model.eval()\n",
    "saved_model = torch.jit.script(model)\n",
    "saved_model.save('saved_model.pt')"
   ]
  },
  {
   "cell_type": "code",
   "execution_count": 18,
   "id": "1a355297",
   "metadata": {
    "execution": {
     "iopub.execute_input": "2022-10-05T21:44:58.096167Z",
     "iopub.status.busy": "2022-10-05T21:44:58.093993Z",
     "iopub.status.idle": "2022-10-05T21:45:02.483255Z",
     "shell.execute_reply": "2022-10-05T21:45:02.482121Z"
    },
    "papermill": {
     "duration": 4.407707,
     "end_time": "2022-10-05T21:45:02.485966",
     "exception": false,
     "start_time": "2022-10-05T21:44:58.078259",
     "status": "completed"
    },
    "tags": []
   },
   "outputs": [],
   "source": [
    "from zipfile import ZipFile\n",
    "with ZipFile('submission.zip', 'w') as zip:\n",
    "    zip.write('./saved_model.pt', arcname='saved_model.pt')"
   ]
  },
  {
   "cell_type": "code",
   "execution_count": 19,
   "id": "c0fec7d6",
   "metadata": {
    "execution": {
     "iopub.execute_input": "2022-10-05T21:45:02.504563Z",
     "iopub.status.busy": "2022-10-05T21:45:02.503837Z",
     "iopub.status.idle": "2022-10-05T21:45:02.764218Z",
     "shell.execute_reply": "2022-10-05T21:45:02.763050Z"
    },
    "papermill": {
     "duration": 0.273115,
     "end_time": "2022-10-05T21:45:02.767072",
     "exception": false,
     "start_time": "2022-10-05T21:45:02.493957",
     "status": "completed"
    },
    "tags": []
   },
   "outputs": [],
   "source": [
    "from PIL import Image\n",
    "from torchvision import transforms\n",
    "import requests\n",
    "url = 'http://images.cocodataset.org/val2017/000000039769.jpg'\n",
    "input_image = Image.open(requests.get(url, stream=True).raw).convert('RGB')\n",
    "saved_model_path = 'saved_model.pt'\n",
    "convert_to_tensor = transforms.Compose([transforms.PILToTensor()])\n",
    "input_tensor = convert_to_tensor(input_image)\n",
    "input_batch = input_tensor.unsqueeze(0)"
   ]
  },
  {
   "cell_type": "code",
   "execution_count": 20,
   "id": "b445a4dc",
   "metadata": {
    "execution": {
     "iopub.execute_input": "2022-10-05T21:45:02.785254Z",
     "iopub.status.busy": "2022-10-05T21:45:02.784483Z",
     "iopub.status.idle": "2022-10-05T21:45:05.541903Z",
     "shell.execute_reply": "2022-10-05T21:45:05.540692Z"
    },
    "papermill": {
     "duration": 2.770022,
     "end_time": "2022-10-05T21:45:05.545068",
     "exception": false,
     "start_time": "2022-10-05T21:45:02.775046",
     "status": "completed"
    },
    "tags": []
   },
   "outputs": [
    {
     "data": {
      "text/plain": [
       "array([ 0.2632971 , -1.6655103 , -2.4893472 ,  3.7273684 ,  1.3950839 ,\n",
       "        1.3776908 , -2.0331917 ,  0.85838693,  1.6138374 ,  2.3114119 ,\n",
       "        2.5594916 , -4.367251  , -1.1665906 ,  0.17241156,  1.1958246 ,\n",
       "       -1.2847953 , -2.8455603 , -2.202995  ,  1.9537129 , -1.8801165 ,\n",
       "       -2.186744  ,  1.4249673 ,  1.2141016 ,  0.55171984, -1.0276257 ,\n",
       "        0.09351698,  1.977908  ,  1.498049  , -2.2125213 ,  1.1878104 ,\n",
       "       -2.5432067 , -1.2673784 , -0.5995904 ,  1.3039222 ,  0.20791796,\n",
       "       -0.24558282,  0.26261878, -3.3305638 , -1.109017  , -0.13759184,\n",
       "       -0.65043414, -2.0158453 ,  0.8314079 ,  2.3849723 ,  0.49997306,\n",
       "       -1.1524358 ,  0.65752596,  1.7776992 , -0.82183826,  1.9799197 ,\n",
       "        0.80306333,  1.3667268 ,  1.4504836 , -2.1804628 ,  2.1219397 ,\n",
       "       -0.02977777,  1.3119843 , -2.319443  ,  1.876002  , -3.4972377 ,\n",
       "       -2.4339538 ,  2.4844184 , -4.4004545 ,  0.3981835 ], dtype=float32)"
      ]
     },
     "execution_count": 20,
     "metadata": {},
     "output_type": "execute_result"
    }
   ],
   "source": [
    "from PIL import Image\n",
    "import torch\n",
    "from torchvision import transforms\n",
    "\n",
    "# Model loading.\n",
    "model = torch.jit.load(saved_model_path)\n",
    "model.eval()\n",
    "embedding_fn = model\n",
    "\n",
    "# Load image and extract its embedding.\n",
    "#input_image = Image.open(image_path).convert(\"RGB\")\n",
    "with torch.no_grad():\n",
    "  embedding = torch.flatten(embedding_fn(input_batch)[0]).cpu().data.numpy()\n",
    "embedding"
   ]
  },
  {
   "cell_type": "code",
   "execution_count": null,
   "id": "2f53d1f1",
   "metadata": {
    "papermill": {
     "duration": 0.008089,
     "end_time": "2022-10-05T21:45:05.562015",
     "exception": false,
     "start_time": "2022-10-05T21:45:05.553926",
     "status": "completed"
    },
    "tags": []
   },
   "outputs": [],
   "source": []
  }
 ],
 "metadata": {
  "kernelspec": {
   "display_name": "Python 3",
   "language": "python",
   "name": "python3"
  },
  "language_info": {
   "codemirror_mode": {
    "name": "ipython",
    "version": 3
   },
   "file_extension": ".py",
   "mimetype": "text/x-python",
   "name": "python",
   "nbconvert_exporter": "python",
   "pygments_lexer": "ipython3",
   "version": "3.7.12"
  },
  "papermill": {
   "default_parameters": {},
   "duration": 160.74409,
   "end_time": "2022-10-05T21:45:07.095581",
   "environment_variables": {},
   "exception": null,
   "input_path": "__notebook__.ipynb",
   "output_path": "__notebook__.ipynb",
   "parameters": {},
   "start_time": "2022-10-05T21:42:26.351491",
   "version": "2.3.4"
  }
 },
 "nbformat": 4,
 "nbformat_minor": 5
}
